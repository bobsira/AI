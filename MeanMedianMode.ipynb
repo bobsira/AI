{
 "cells": [
  {
   "cell_type": "markdown",
   "metadata": {
    "deletable": true,
    "editable": true
   },
   "source": [
    "# Mean, Median, Mode, and introducing NumPy"
   ]
  },
  {
   "cell_type": "markdown",
   "metadata": {
    "deletable": true,
    "editable": true
   },
   "source": [
    "## Mean vs. Median"
   ]
  },
  {
   "cell_type": "markdown",
   "metadata": {
    "deletable": true,
    "editable": true
   },
   "source": [
    "Let's create some fake income data, centered around 27,000 with a normal distribution and standard deviation of 15,000, with 10,000 data points. (We'll discuss those terms more later, if you're not familiar with them.)\n",
    "\n",
    "Then, compute the mean (average) - it should be close to 27,000:"
   ]
  },
  {
   "cell_type": "code",
   "execution_count": 1,
   "metadata": {
    "collapsed": false,
    "deletable": true,
    "editable": true
   },
   "outputs": [
    {
     "data": {
      "text/plain": [
       "27054.026801444972"
      ]
     },
     "execution_count": 1,
     "metadata": {},
     "output_type": "execute_result"
    }
   ],
   "source": [
    "import numpy as np\n",
    "\n",
    "incomes = np.random.normal(27000, 15000, 10000)\n",
    "np.mean(incomes)"
   ]
  },
  {
   "cell_type": "markdown",
   "metadata": {
    "deletable": true,
    "editable": true
   },
   "source": [
    "We can segment the income data into 50 buckets, and plot it as a histogram:"
   ]
  },
  {
   "cell_type": "code",
   "execution_count": 2,
   "metadata": {
    "collapsed": false,
    "deletable": true,
    "editable": true
   },
   "outputs": [
    {
     "data": {
      "image/png": "[encoded data removed]",
      "text/plain": [
       "<matplotlib.figure.Figure at 0x7f31bdb89908>"
      ]
     },
     "metadata": {},
     "output_type": "display_data"
    }
   ],
   "source": [
    "%matplotlib inline\n",
    "import matplotlib.pyplot as plt\n",
    "plt.hist(incomes, 50)\n",
    "plt.show()"
   ]
  },
  {
   "cell_type": "markdown",
   "metadata": {
    "deletable": true,
    "editable": true
   },
   "source": [
    "Now compute the median - since we have a nice, even distribution it too should be close to 27,000:"
   ]
  },
  {
   "cell_type": "code",
   "execution_count": 3,
   "metadata": {
    "collapsed": false,
    "deletable": true,
    "editable": true
   },
   "outputs": [
    {
     "data": {
      "text/plain": [
       "27032.060472859412"
      ]
     },
     "execution_count": 3,
     "metadata": {},
     "output_type": "execute_result"
    }
   ],
   "source": [
    "np.median(incomes)"
   ]
  },
  {
   "cell_type": "markdown",
   "metadata": {
    "deletable": true,
    "editable": true
   },
   "source": [
    "Now we'll add Donald Trump into the mix. Darn income inequality!"
   ]
  },
  {
   "cell_type": "code",
   "execution_count": 4,
   "metadata": {
    "collapsed": false,
    "deletable": true,
    "editable": true
   },
   "outputs": [],
   "source": [
    "incomes = np.append(incomes, [1000000000])"
   ]
  },
  {
   "cell_type": "markdown",
   "metadata": {
    "deletable": true,
    "editable": true
   },
   "source": [
    "The median won't change much, but the mean does:"
   ]
  },
  {
   "cell_type": "code",
   "execution_count": 5,
   "metadata": {
    "collapsed": false,
    "deletable": true,
    "editable": true
   },
   "outputs": [
    {
     "data": {
      "text/plain": [
       "27032.315078615749"
      ]
     },
     "execution_count": 5,
     "metadata": {},
     "output_type": "execute_result"
    }
   ],
   "source": [
    "np.median(incomes)"
   ]
  },
  {
   "cell_type": "code",
   "execution_count": 6,
   "metadata": {
    "collapsed": false,
    "deletable": true,
    "editable": true
   },
   "outputs": [
    {
     "data": {
      "text/plain": [
       "127041.32266917804"
      ]
     },
     "execution_count": 6,
     "metadata": {},
     "output_type": "execute_result"
    }
   ],
   "source": [
    "np.mean(incomes)"
   ]
  },
  {
   "cell_type": "markdown",
   "metadata": {
    "deletable": true,
    "editable": true
   },
   "source": [
    "## Mode"
   ]
  },
  {
   "cell_type": "markdown",
   "metadata": {
    "deletable": true,
    "editable": true
   },
   "source": [
    "Next, let's generate some fake age data for 500 people:"
   ]
  },
  {
   "cell_type": "code",
   "execution_count": 7,
   "metadata": {
    "collapsed": false,
    "deletable": true,
    "editable": true
   },
   "outputs": [
    {
     "data": {
      "text/plain": [
       "array([19, 89, 38, 26, 37, 21, 87, 70, 52, 73, 72, 38, 65, 62, 18, 61, 27,\n",
       "       18, 49, 20, 24, 26, 35, 34, 89, 53, 59, 29, 84, 37, 60, 48, 28, 86,\n",
       "       61, 61, 50, 45, 59, 87, 74, 85, 82, 66, 52, 78, 29, 70, 37, 72, 54,\n",
       "       22, 34, 34, 73, 58, 44, 89, 41, 39, 39, 78, 55, 61, 63, 72, 26, 81,\n",
       "       70, 37, 82, 25, 60, 63, 22, 78, 34, 71, 32, 62, 56, 52, 75, 53, 50,\n",
       "       68, 44, 53, 53, 49, 76, 43, 77, 52, 31, 39, 83, 41, 55, 74, 54, 83,\n",
       "       43, 19, 77, 88, 46, 33, 69, 45, 71, 84, 46, 40, 47, 85, 68, 18, 26,\n",
       "       21, 29, 78, 54, 54, 87, 78, 32, 85, 30, 88, 51, 71, 65, 19, 28, 21,\n",
       "       29, 40, 50, 56, 20, 73, 84, 80, 34, 26, 86, 34, 38, 64, 73, 79, 78,\n",
       "       84, 57, 48, 68, 21, 53, 89, 52, 55, 74, 27, 33, 58, 22, 67, 29, 62,\n",
       "       27, 69, 82, 63, 73, 75, 51, 25, 32, 83, 83, 47, 41, 38, 24, 63, 59,\n",
       "       57, 52, 35, 74, 79, 20, 41, 30, 64, 27, 82, 76, 22, 88, 22, 39, 64,\n",
       "       36, 71, 86, 76, 67, 39, 50, 84, 67, 34, 28, 24, 89, 61, 46, 69, 59,\n",
       "       65, 34, 74, 70, 43, 64, 36, 46, 65, 30, 36, 21, 34, 26, 31, 49, 28,\n",
       "       18, 20, 32, 44, 89, 54, 44, 75, 21, 56, 79, 31, 24, 39, 58, 68, 58,\n",
       "       53, 29, 78, 21, 63, 39, 32, 18, 20, 22, 46, 40, 18, 68, 67, 58, 19,\n",
       "       37, 34, 32, 73, 84, 58, 71, 23, 71, 74, 30, 32, 62, 87, 76, 85, 53,\n",
       "       28, 72, 44, 79, 46, 51, 43, 64, 71, 30, 29, 30, 32, 66, 59, 63, 21,\n",
       "       38, 42, 89, 81, 56, 26, 50, 77, 18, 80, 63, 62, 58, 89, 82, 72, 71,\n",
       "       46, 76, 42, 62, 89, 60, 82, 57, 85, 86, 63, 19, 60, 61, 79, 44, 41,\n",
       "       61, 79, 60, 28, 30, 45, 54, 53, 20, 67, 63, 26, 26, 45, 68, 74, 72,\n",
       "       54, 34, 48, 28, 26, 34, 36, 34, 37, 29, 30, 47, 70, 76, 21, 22, 45,\n",
       "       73, 27, 27, 40, 29, 44, 55, 82, 37, 44, 38, 67, 48, 26, 60, 77, 48,\n",
       "       40, 64, 57, 60, 53, 63, 53, 56, 66, 40, 18, 79, 51, 78, 39, 48, 77,\n",
       "       71, 88, 67, 25, 70, 79, 65, 80, 68, 32, 46, 64, 81, 83, 54, 38, 66,\n",
       "       70, 45, 70, 26, 67, 26, 27, 84, 63, 19, 59, 47, 68, 71, 61, 28, 80,\n",
       "       67, 37, 41, 32, 55, 40, 80, 51, 75, 80, 42, 20, 85, 79, 54, 20, 75,\n",
       "       31, 70, 78, 23, 51, 82, 39, 87, 74, 63, 69, 66, 32, 43, 74, 23, 62,\n",
       "       20, 67, 36, 70, 58, 33, 37, 70, 84, 62, 58, 70, 50, 79, 31, 60, 78,\n",
       "       21, 24, 28, 88, 83, 89, 25])"
      ]
     },
     "execution_count": 7,
     "metadata": {},
     "output_type": "execute_result"
    }
   ],
   "source": [
    "ages = np.random.randint(18, high=90, size=500)\n",
    "ages"
   ]
  },
  {
   "cell_type": "code",
   "execution_count": 8,
   "metadata": {
    "collapsed": false,
    "deletable": true,
    "editable": true
   },
   "outputs": [
    {
     "data": {
      "text/plain": [
       "ModeResult(mode=array([26]), count=array([13]))"
      ]
     },
     "execution_count": 8,
     "metadata": {},
     "output_type": "execute_result"
    }
   ],
   "source": [
    "from scipy import stats\n",
    "stats.mode(ages)"
   ]
  },
  {
   "cell_type": "code",
   "execution_count": null,
   "metadata": {
    "collapsed": false,
    "deletable": true,
    "editable": true
   },
   "outputs": [],
   "source": []
  }
 ],
 "metadata": {
  "kernelspec": {
   "display_name": "Python 3",
   "language": "python",
   "name": "python3"
  },
  "language_info": {
   "codemirror_mode": {
    "name": "ipython",
    "version": 3
   },
   "file_extension": ".py",
   "mimetype": "text/x-python",
   "name": "python",
   "nbconvert_exporter": "python",
   "pygments_lexer": "ipython3",
   "version": "3.6.0"
  }
 },
 "nbformat": 4,
 "nbformat_minor": 0
}
